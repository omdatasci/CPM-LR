{
 "cells": [
  {
   "cell_type": "code",
   "execution_count": 1,
   "id": "4ad2838b-b76e-4514-a60e-90361bebc2a9",
   "metadata": {},
   "outputs": [],
   "source": [
    "# Importing libraries\n",
    "import pandas as pd\n",
    "import numpy as np"
   ]
  },
  {
   "cell_type": "code",
   "execution_count": 2,
   "id": "e8e50a0d-780b-4252-ae1f-5055a114b5c7",
   "metadata": {},
   "outputs": [],
   "source": [
    "df = pd.read_csv(\"Material Compressive Strength Experimental Data.csv\")"
   ]
  },
  {
   "cell_type": "code",
   "execution_count": 3,
   "id": "4e88229b-9d60-428c-94a7-48ca04931b6b",
   "metadata": {},
   "outputs": [
    {
     "data": {
      "text/html": [
       "<div>\n",
       "<style scoped>\n",
       "    .dataframe tbody tr th:only-of-type {\n",
       "        vertical-align: middle;\n",
       "    }\n",
       "\n",
       "    .dataframe tbody tr th {\n",
       "        vertical-align: top;\n",
       "    }\n",
       "\n",
       "    .dataframe thead th {\n",
       "        text-align: right;\n",
       "    }\n",
       "</style>\n",
       "<table border=\"1\" class=\"dataframe\">\n",
       "  <thead>\n",
       "    <tr style=\"text-align: right;\">\n",
       "      <th></th>\n",
       "      <th>Material_Quantity_gm</th>\n",
       "      <th>Additive_Catalyst_gm</th>\n",
       "      <th>Ash_Component_gm</th>\n",
       "      <th>Water_Mix_ml</th>\n",
       "      <th>Plasticizer_gm</th>\n",
       "      <th>Moderate_Aggregator</th>\n",
       "      <th>Refined_Aggregator</th>\n",
       "      <th>Formulation_Duration_hrs</th>\n",
       "      <th>Compression_Strength_MPa</th>\n",
       "    </tr>\n",
       "  </thead>\n",
       "  <tbody>\n",
       "    <tr>\n",
       "      <th>0</th>\n",
       "      <td>486.42</td>\n",
       "      <td>180.60</td>\n",
       "      <td>21.26</td>\n",
       "      <td>201.66</td>\n",
       "      <td>16.11</td>\n",
       "      <td>1151.17</td>\n",
       "      <td>708.50</td>\n",
       "      <td>344.43</td>\n",
       "      <td>79.89</td>\n",
       "    </tr>\n",
       "    <tr>\n",
       "      <th>1</th>\n",
       "      <td>133.32</td>\n",
       "      <td>260.14</td>\n",
       "      <td>185.60</td>\n",
       "      <td>175.99</td>\n",
       "      <td>6.27</td>\n",
       "      <td>1090.57</td>\n",
       "      <td>1010.25</td>\n",
       "      <td>28.86</td>\n",
       "      <td>59.80</td>\n",
       "    </tr>\n",
       "    <tr>\n",
       "      <th>2</th>\n",
       "      <td>559.97</td>\n",
       "      <td>2.84</td>\n",
       "      <td>111.76</td>\n",
       "      <td>295.23</td>\n",
       "      <td>11.95</td>\n",
       "      <td>1024.93</td>\n",
       "      <td>810.69</td>\n",
       "      <td>237.68</td>\n",
       "      <td>77.86</td>\n",
       "    </tr>\n",
       "    <tr>\n",
       "      <th>3</th>\n",
       "      <td>391.43</td>\n",
       "      <td>351.05</td>\n",
       "      <td>76.39</td>\n",
       "      <td>299.14</td>\n",
       "      <td>19.00</td>\n",
       "      <td>1134.88</td>\n",
       "      <td>881.34</td>\n",
       "      <td>208.81</td>\n",
       "      <td>71.74</td>\n",
       "    </tr>\n",
       "    <tr>\n",
       "      <th>4</th>\n",
       "      <td>394.78</td>\n",
       "      <td>352.61</td>\n",
       "      <td>194.35</td>\n",
       "      <td>235.54</td>\n",
       "      <td>17.02</td>\n",
       "      <td>1098.24</td>\n",
       "      <td>781.01</td>\n",
       "      <td>266.84</td>\n",
       "      <td>76.07</td>\n",
       "    </tr>\n",
       "  </tbody>\n",
       "</table>\n",
       "</div>"
      ],
      "text/plain": [
       "   Material_Quantity_gm  Additive_Catalyst_gm  Ash_Component_gm  Water_Mix_ml  \\\n",
       "0                486.42                180.60             21.26        201.66   \n",
       "1                133.32                260.14            185.60        175.99   \n",
       "2                559.97                  2.84            111.76        295.23   \n",
       "3                391.43                351.05             76.39        299.14   \n",
       "4                394.78                352.61            194.35        235.54   \n",
       "\n",
       "   Plasticizer_gm  Moderate_Aggregator  Refined_Aggregator  \\\n",
       "0           16.11              1151.17              708.50   \n",
       "1            6.27              1090.57             1010.25   \n",
       "2           11.95              1024.93              810.69   \n",
       "3           19.00              1134.88              881.34   \n",
       "4           17.02              1098.24              781.01   \n",
       "\n",
       "   Formulation_Duration_hrs  Compression_Strength_MPa  \n",
       "0                    344.43                     79.89  \n",
       "1                     28.86                     59.80  \n",
       "2                    237.68                     77.86  \n",
       "3                    208.81                     71.74  \n",
       "4                    266.84                     76.07  "
      ]
     },
     "execution_count": 3,
     "metadata": {},
     "output_type": "execute_result"
    }
   ],
   "source": [
    "df.head()"
   ]
  },
  {
   "cell_type": "code",
   "execution_count": 4,
   "id": "b6b65c34-3c47-4b3f-a6f3-f343c7bc7abf",
   "metadata": {},
   "outputs": [
    {
     "name": "stdout",
     "output_type": "stream",
     "text": [
      "<class 'pandas.core.frame.DataFrame'>\n",
      "RangeIndex: 6139 entries, 0 to 6138\n",
      "Data columns (total 9 columns):\n",
      " #   Column                    Non-Null Count  Dtype  \n",
      "---  ------                    --------------  -----  \n",
      " 0   Material_Quantity_gm      6030 non-null   float64\n",
      " 1   Additive_Catalyst_gm      6030 non-null   float64\n",
      " 2   Ash_Component_gm          6030 non-null   float64\n",
      " 3   Water_Mix_ml              6030 non-null   float64\n",
      " 4   Plasticizer_gm            6030 non-null   float64\n",
      " 5   Moderate_Aggregator       6030 non-null   float64\n",
      " 6   Refined_Aggregator        6030 non-null   float64\n",
      " 7   Formulation_Duration_hrs  6030 non-null   float64\n",
      " 8   Compression_Strength_MPa  6139 non-null   float64\n",
      "dtypes: float64(9)\n",
      "memory usage: 431.8 KB\n"
     ]
    }
   ],
   "source": [
    "df.info()"
   ]
  },
  {
   "cell_type": "code",
   "execution_count": 5,
   "id": "fa80abe3-31af-4cfd-883f-8931ba4b9c1c",
   "metadata": {},
   "outputs": [
    {
     "data": {
      "text/plain": [
       "Material_Quantity_gm        109\n",
       "Additive_Catalyst_gm        109\n",
       "Ash_Component_gm            109\n",
       "Water_Mix_ml                109\n",
       "Plasticizer_gm              109\n",
       "Moderate_Aggregator         109\n",
       "Refined_Aggregator          109\n",
       "Formulation_Duration_hrs    109\n",
       "Compression_Strength_MPa      0\n",
       "dtype: int64"
      ]
     },
     "execution_count": 5,
     "metadata": {},
     "output_type": "execute_result"
    }
   ],
   "source": [
    "# Total null value preset in each columns\n",
    "df.isnull().sum()"
   ]
  },
  {
   "cell_type": "code",
   "execution_count": 6,
   "id": "f3175774-1bca-4955-82c9-b66b9220c131",
   "metadata": {},
   "outputs": [],
   "source": [
    "df = df.fillna(0)"
   ]
  },
  {
   "cell_type": "code",
   "execution_count": 7,
   "id": "afb4d0cf-2ff1-4424-a41c-32494b97784c",
   "metadata": {},
   "outputs": [
    {
     "data": {
      "text/plain": [
       "Material_Quantity_gm        0\n",
       "Additive_Catalyst_gm        0\n",
       "Ash_Component_gm            0\n",
       "Water_Mix_ml                0\n",
       "Plasticizer_gm              0\n",
       "Moderate_Aggregator         0\n",
       "Refined_Aggregator          0\n",
       "Formulation_Duration_hrs    0\n",
       "Compression_Strength_MPa    0\n",
       "dtype: int64"
      ]
     },
     "execution_count": 7,
     "metadata": {},
     "output_type": "execute_result"
    }
   ],
   "source": [
    "df.isnull().sum()"
   ]
  },
  {
   "cell_type": "code",
   "execution_count": 8,
   "id": "a6486ced-980e-4adf-b6d6-453714df116a",
   "metadata": {},
   "outputs": [],
   "source": [
    "df = df.astype(int)"
   ]
  },
  {
   "cell_type": "code",
   "execution_count": 9,
   "id": "e0f71d8a-ea83-4886-aefb-084ab7edd91b",
   "metadata": {},
   "outputs": [],
   "source": [
    "cdf = df"
   ]
  },
  {
   "cell_type": "code",
   "execution_count": 10,
   "id": "a09b76d4-a6af-4acb-9f9a-26d22469c182",
   "metadata": {},
   "outputs": [
    {
     "data": {
      "text/html": [
       "<div>\n",
       "<style scoped>\n",
       "    .dataframe tbody tr th:only-of-type {\n",
       "        vertical-align: middle;\n",
       "    }\n",
       "\n",
       "    .dataframe tbody tr th {\n",
       "        vertical-align: top;\n",
       "    }\n",
       "\n",
       "    .dataframe thead th {\n",
       "        text-align: right;\n",
       "    }\n",
       "</style>\n",
       "<table border=\"1\" class=\"dataframe\">\n",
       "  <thead>\n",
       "    <tr style=\"text-align: right;\">\n",
       "      <th></th>\n",
       "      <th>Material_Quantity_gm</th>\n",
       "      <th>Additive_Catalyst_gm</th>\n",
       "      <th>Ash_Component_gm</th>\n",
       "      <th>Water_Mix_ml</th>\n",
       "      <th>Plasticizer_gm</th>\n",
       "      <th>Moderate_Aggregator</th>\n",
       "      <th>Refined_Aggregator</th>\n",
       "      <th>Formulation_Duration_hrs</th>\n",
       "      <th>Compression_Strength_MPa</th>\n",
       "    </tr>\n",
       "  </thead>\n",
       "  <tbody>\n",
       "    <tr>\n",
       "      <th>0</th>\n",
       "      <td>486</td>\n",
       "      <td>180</td>\n",
       "      <td>21</td>\n",
       "      <td>201</td>\n",
       "      <td>16</td>\n",
       "      <td>1151</td>\n",
       "      <td>708</td>\n",
       "      <td>344</td>\n",
       "      <td>79</td>\n",
       "    </tr>\n",
       "    <tr>\n",
       "      <th>1</th>\n",
       "      <td>133</td>\n",
       "      <td>260</td>\n",
       "      <td>185</td>\n",
       "      <td>175</td>\n",
       "      <td>6</td>\n",
       "      <td>1090</td>\n",
       "      <td>1010</td>\n",
       "      <td>28</td>\n",
       "      <td>59</td>\n",
       "    </tr>\n",
       "    <tr>\n",
       "      <th>2</th>\n",
       "      <td>559</td>\n",
       "      <td>2</td>\n",
       "      <td>111</td>\n",
       "      <td>295</td>\n",
       "      <td>11</td>\n",
       "      <td>1024</td>\n",
       "      <td>810</td>\n",
       "      <td>237</td>\n",
       "      <td>77</td>\n",
       "    </tr>\n",
       "    <tr>\n",
       "      <th>3</th>\n",
       "      <td>391</td>\n",
       "      <td>351</td>\n",
       "      <td>76</td>\n",
       "      <td>299</td>\n",
       "      <td>19</td>\n",
       "      <td>1134</td>\n",
       "      <td>881</td>\n",
       "      <td>208</td>\n",
       "      <td>71</td>\n",
       "    </tr>\n",
       "    <tr>\n",
       "      <th>4</th>\n",
       "      <td>394</td>\n",
       "      <td>352</td>\n",
       "      <td>194</td>\n",
       "      <td>235</td>\n",
       "      <td>17</td>\n",
       "      <td>1098</td>\n",
       "      <td>781</td>\n",
       "      <td>266</td>\n",
       "      <td>76</td>\n",
       "    </tr>\n",
       "  </tbody>\n",
       "</table>\n",
       "</div>"
      ],
      "text/plain": [
       "   Material_Quantity_gm  Additive_Catalyst_gm  Ash_Component_gm  Water_Mix_ml  \\\n",
       "0                   486                   180                21           201   \n",
       "1                   133                   260               185           175   \n",
       "2                   559                     2               111           295   \n",
       "3                   391                   351                76           299   \n",
       "4                   394                   352               194           235   \n",
       "\n",
       "   Plasticizer_gm  Moderate_Aggregator  Refined_Aggregator  \\\n",
       "0              16                 1151                 708   \n",
       "1               6                 1090                1010   \n",
       "2              11                 1024                 810   \n",
       "3              19                 1134                 881   \n",
       "4              17                 1098                 781   \n",
       "\n",
       "   Formulation_Duration_hrs  Compression_Strength_MPa  \n",
       "0                       344                        79  \n",
       "1                        28                        59  \n",
       "2                       237                        77  \n",
       "3                       208                        71  \n",
       "4                       266                        76  "
      ]
     },
     "execution_count": 10,
     "metadata": {},
     "output_type": "execute_result"
    }
   ],
   "source": [
    "df.head()"
   ]
  },
  {
   "cell_type": "code",
   "execution_count": 11,
   "id": "0d32744b-c8dc-4f96-843f-d672b828d6dc",
   "metadata": {},
   "outputs": [],
   "source": [
    "# Applying corelation\n",
    "corr_matrix = df.corr()"
   ]
  },
  {
   "cell_type": "code",
   "execution_count": 12,
   "id": "0f787502-264c-4ba3-9df4-c871f2514925",
   "metadata": {},
   "outputs": [
    {
     "data": {
      "text/html": [
       "<div>\n",
       "<style scoped>\n",
       "    .dataframe tbody tr th:only-of-type {\n",
       "        vertical-align: middle;\n",
       "    }\n",
       "\n",
       "    .dataframe tbody tr th {\n",
       "        vertical-align: top;\n",
       "    }\n",
       "\n",
       "    .dataframe thead th {\n",
       "        text-align: right;\n",
       "    }\n",
       "</style>\n",
       "<table border=\"1\" class=\"dataframe\">\n",
       "  <thead>\n",
       "    <tr style=\"text-align: right;\">\n",
       "      <th></th>\n",
       "      <th>Material_Quantity_gm</th>\n",
       "      <th>Additive_Catalyst_gm</th>\n",
       "      <th>Ash_Component_gm</th>\n",
       "      <th>Water_Mix_ml</th>\n",
       "      <th>Plasticizer_gm</th>\n",
       "      <th>Moderate_Aggregator</th>\n",
       "      <th>Refined_Aggregator</th>\n",
       "      <th>Formulation_Duration_hrs</th>\n",
       "      <th>Compression_Strength_MPa</th>\n",
       "    </tr>\n",
       "  </thead>\n",
       "  <tbody>\n",
       "    <tr>\n",
       "      <th>Material_Quantity_gm</th>\n",
       "      <td>1.000000</td>\n",
       "      <td>0.070800</td>\n",
       "      <td>0.040785</td>\n",
       "      <td>0.191480</td>\n",
       "      <td>0.107269</td>\n",
       "      <td>0.254407</td>\n",
       "      <td>0.211725</td>\n",
       "      <td>0.126436</td>\n",
       "      <td>0.113331</td>\n",
       "    </tr>\n",
       "    <tr>\n",
       "      <th>Additive_Catalyst_gm</th>\n",
       "      <td>0.070800</td>\n",
       "      <td>1.000000</td>\n",
       "      <td>0.089000</td>\n",
       "      <td>0.135982</td>\n",
       "      <td>0.170504</td>\n",
       "      <td>0.142042</td>\n",
       "      <td>0.140199</td>\n",
       "      <td>0.194346</td>\n",
       "      <td>0.169663</td>\n",
       "    </tr>\n",
       "    <tr>\n",
       "      <th>Ash_Component_gm</th>\n",
       "      <td>0.040785</td>\n",
       "      <td>0.089000</td>\n",
       "      <td>1.000000</td>\n",
       "      <td>0.108811</td>\n",
       "      <td>0.189922</td>\n",
       "      <td>0.156351</td>\n",
       "      <td>0.163935</td>\n",
       "      <td>0.144447</td>\n",
       "      <td>0.081788</td>\n",
       "    </tr>\n",
       "    <tr>\n",
       "      <th>Water_Mix_ml</th>\n",
       "      <td>0.191480</td>\n",
       "      <td>0.135982</td>\n",
       "      <td>0.108811</td>\n",
       "      <td>1.000000</td>\n",
       "      <td>0.093112</td>\n",
       "      <td>0.455493</td>\n",
       "      <td>0.371361</td>\n",
       "      <td>0.142538</td>\n",
       "      <td>-0.040146</td>\n",
       "    </tr>\n",
       "    <tr>\n",
       "      <th>Plasticizer_gm</th>\n",
       "      <td>0.107269</td>\n",
       "      <td>0.170504</td>\n",
       "      <td>0.189922</td>\n",
       "      <td>0.093112</td>\n",
       "      <td>1.000000</td>\n",
       "      <td>0.144461</td>\n",
       "      <td>0.173292</td>\n",
       "      <td>0.187234</td>\n",
       "      <td>0.193658</td>\n",
       "    </tr>\n",
       "    <tr>\n",
       "      <th>Moderate_Aggregator</th>\n",
       "      <td>0.254407</td>\n",
       "      <td>0.142042</td>\n",
       "      <td>0.156351</td>\n",
       "      <td>0.455493</td>\n",
       "      <td>0.144461</td>\n",
       "      <td>1.000000</td>\n",
       "      <td>0.554778</td>\n",
       "      <td>0.167630</td>\n",
       "      <td>-0.044303</td>\n",
       "    </tr>\n",
       "    <tr>\n",
       "      <th>Refined_Aggregator</th>\n",
       "      <td>0.211725</td>\n",
       "      <td>0.140199</td>\n",
       "      <td>0.163935</td>\n",
       "      <td>0.371361</td>\n",
       "      <td>0.173292</td>\n",
       "      <td>0.554778</td>\n",
       "      <td>1.000000</td>\n",
       "      <td>0.144288</td>\n",
       "      <td>-0.029335</td>\n",
       "    </tr>\n",
       "    <tr>\n",
       "      <th>Formulation_Duration_hrs</th>\n",
       "      <td>0.126436</td>\n",
       "      <td>0.194346</td>\n",
       "      <td>0.144447</td>\n",
       "      <td>0.142538</td>\n",
       "      <td>0.187234</td>\n",
       "      <td>0.167630</td>\n",
       "      <td>0.144288</td>\n",
       "      <td>1.000000</td>\n",
       "      <td>0.253853</td>\n",
       "    </tr>\n",
       "    <tr>\n",
       "      <th>Compression_Strength_MPa</th>\n",
       "      <td>0.113331</td>\n",
       "      <td>0.169663</td>\n",
       "      <td>0.081788</td>\n",
       "      <td>-0.040146</td>\n",
       "      <td>0.193658</td>\n",
       "      <td>-0.044303</td>\n",
       "      <td>-0.029335</td>\n",
       "      <td>0.253853</td>\n",
       "      <td>1.000000</td>\n",
       "    </tr>\n",
       "  </tbody>\n",
       "</table>\n",
       "</div>"
      ],
      "text/plain": [
       "                          Material_Quantity_gm  Additive_Catalyst_gm  \\\n",
       "Material_Quantity_gm                  1.000000              0.070800   \n",
       "Additive_Catalyst_gm                  0.070800              1.000000   \n",
       "Ash_Component_gm                      0.040785              0.089000   \n",
       "Water_Mix_ml                          0.191480              0.135982   \n",
       "Plasticizer_gm                        0.107269              0.170504   \n",
       "Moderate_Aggregator                   0.254407              0.142042   \n",
       "Refined_Aggregator                    0.211725              0.140199   \n",
       "Formulation_Duration_hrs              0.126436              0.194346   \n",
       "Compression_Strength_MPa              0.113331              0.169663   \n",
       "\n",
       "                          Ash_Component_gm  Water_Mix_ml  Plasticizer_gm  \\\n",
       "Material_Quantity_gm              0.040785      0.191480        0.107269   \n",
       "Additive_Catalyst_gm              0.089000      0.135982        0.170504   \n",
       "Ash_Component_gm                  1.000000      0.108811        0.189922   \n",
       "Water_Mix_ml                      0.108811      1.000000        0.093112   \n",
       "Plasticizer_gm                    0.189922      0.093112        1.000000   \n",
       "Moderate_Aggregator               0.156351      0.455493        0.144461   \n",
       "Refined_Aggregator                0.163935      0.371361        0.173292   \n",
       "Formulation_Duration_hrs          0.144447      0.142538        0.187234   \n",
       "Compression_Strength_MPa          0.081788     -0.040146        0.193658   \n",
       "\n",
       "                          Moderate_Aggregator  Refined_Aggregator  \\\n",
       "Material_Quantity_gm                 0.254407            0.211725   \n",
       "Additive_Catalyst_gm                 0.142042            0.140199   \n",
       "Ash_Component_gm                     0.156351            0.163935   \n",
       "Water_Mix_ml                         0.455493            0.371361   \n",
       "Plasticizer_gm                       0.144461            0.173292   \n",
       "Moderate_Aggregator                  1.000000            0.554778   \n",
       "Refined_Aggregator                   0.554778            1.000000   \n",
       "Formulation_Duration_hrs             0.167630            0.144288   \n",
       "Compression_Strength_MPa            -0.044303           -0.029335   \n",
       "\n",
       "                          Formulation_Duration_hrs  Compression_Strength_MPa  \n",
       "Material_Quantity_gm                      0.126436                  0.113331  \n",
       "Additive_Catalyst_gm                      0.194346                  0.169663  \n",
       "Ash_Component_gm                          0.144447                  0.081788  \n",
       "Water_Mix_ml                              0.142538                 -0.040146  \n",
       "Plasticizer_gm                            0.187234                  0.193658  \n",
       "Moderate_Aggregator                       0.167630                 -0.044303  \n",
       "Refined_Aggregator                        0.144288                 -0.029335  \n",
       "Formulation_Duration_hrs                  1.000000                  0.253853  \n",
       "Compression_Strength_MPa                  0.253853                  1.000000  "
      ]
     },
     "execution_count": 12,
     "metadata": {},
     "output_type": "execute_result"
    }
   ],
   "source": [
    "corr_matrix"
   ]
  },
  {
   "cell_type": "code",
   "execution_count": 13,
   "id": "61a7c322-fd9a-4335-a47a-ab423e4c7b28",
   "metadata": {},
   "outputs": [
    {
     "name": "stdout",
     "output_type": "stream",
     "text": [
      "0.5547783135105027\n",
      "Refined_Aggregator\n"
     ]
    }
   ],
   "source": [
    "threshold = 0.5\n",
    "for row in range (len(corr_matrix)):\n",
    "    for col in range (row):\n",
    "        if abs((corr_matrix.iloc[row][col])) > threshold:   \n",
    "             print(corr_matrix.iloc[row][col])\n",
    "             print(corr_matrix.columns[row]) "
   ]
  },
  {
   "cell_type": "code",
   "execution_count": 14,
   "id": "b965c6f4-200b-4934-986d-e4932c50d684",
   "metadata": {},
   "outputs": [],
   "source": [
    "cdf = cdf.drop('Refined_Aggregator', axis=1)"
   ]
  },
  {
   "cell_type": "code",
   "execution_count": 15,
   "id": "be9f1c56-0401-4f2f-a784-a5a14bd863b5",
   "metadata": {},
   "outputs": [
    {
     "data": {
      "text/html": [
       "<div>\n",
       "<style scoped>\n",
       "    .dataframe tbody tr th:only-of-type {\n",
       "        vertical-align: middle;\n",
       "    }\n",
       "\n",
       "    .dataframe tbody tr th {\n",
       "        vertical-align: top;\n",
       "    }\n",
       "\n",
       "    .dataframe thead th {\n",
       "        text-align: right;\n",
       "    }\n",
       "</style>\n",
       "<table border=\"1\" class=\"dataframe\">\n",
       "  <thead>\n",
       "    <tr style=\"text-align: right;\">\n",
       "      <th></th>\n",
       "      <th>Material_Quantity_gm</th>\n",
       "      <th>Additive_Catalyst_gm</th>\n",
       "      <th>Ash_Component_gm</th>\n",
       "      <th>Water_Mix_ml</th>\n",
       "      <th>Plasticizer_gm</th>\n",
       "      <th>Moderate_Aggregator</th>\n",
       "      <th>Formulation_Duration_hrs</th>\n",
       "      <th>Compression_Strength_MPa</th>\n",
       "    </tr>\n",
       "  </thead>\n",
       "  <tbody>\n",
       "    <tr>\n",
       "      <th>0</th>\n",
       "      <td>486</td>\n",
       "      <td>180</td>\n",
       "      <td>21</td>\n",
       "      <td>201</td>\n",
       "      <td>16</td>\n",
       "      <td>1151</td>\n",
       "      <td>344</td>\n",
       "      <td>79</td>\n",
       "    </tr>\n",
       "    <tr>\n",
       "      <th>1</th>\n",
       "      <td>133</td>\n",
       "      <td>260</td>\n",
       "      <td>185</td>\n",
       "      <td>175</td>\n",
       "      <td>6</td>\n",
       "      <td>1090</td>\n",
       "      <td>28</td>\n",
       "      <td>59</td>\n",
       "    </tr>\n",
       "    <tr>\n",
       "      <th>2</th>\n",
       "      <td>559</td>\n",
       "      <td>2</td>\n",
       "      <td>111</td>\n",
       "      <td>295</td>\n",
       "      <td>11</td>\n",
       "      <td>1024</td>\n",
       "      <td>237</td>\n",
       "      <td>77</td>\n",
       "    </tr>\n",
       "    <tr>\n",
       "      <th>3</th>\n",
       "      <td>391</td>\n",
       "      <td>351</td>\n",
       "      <td>76</td>\n",
       "      <td>299</td>\n",
       "      <td>19</td>\n",
       "      <td>1134</td>\n",
       "      <td>208</td>\n",
       "      <td>71</td>\n",
       "    </tr>\n",
       "    <tr>\n",
       "      <th>4</th>\n",
       "      <td>394</td>\n",
       "      <td>352</td>\n",
       "      <td>194</td>\n",
       "      <td>235</td>\n",
       "      <td>17</td>\n",
       "      <td>1098</td>\n",
       "      <td>266</td>\n",
       "      <td>76</td>\n",
       "    </tr>\n",
       "  </tbody>\n",
       "</table>\n",
       "</div>"
      ],
      "text/plain": [
       "   Material_Quantity_gm  Additive_Catalyst_gm  Ash_Component_gm  Water_Mix_ml  \\\n",
       "0                   486                   180                21           201   \n",
       "1                   133                   260               185           175   \n",
       "2                   559                     2               111           295   \n",
       "3                   391                   351                76           299   \n",
       "4                   394                   352               194           235   \n",
       "\n",
       "   Plasticizer_gm  Moderate_Aggregator  Formulation_Duration_hrs  \\\n",
       "0              16                 1151                       344   \n",
       "1               6                 1090                        28   \n",
       "2              11                 1024                       237   \n",
       "3              19                 1134                       208   \n",
       "4              17                 1098                       266   \n",
       "\n",
       "   Compression_Strength_MPa  \n",
       "0                        79  \n",
       "1                        59  \n",
       "2                        77  \n",
       "3                        71  \n",
       "4                        76  "
      ]
     },
     "execution_count": 15,
     "metadata": {},
     "output_type": "execute_result"
    }
   ],
   "source": [
    "cdf.head()"
   ]
  },
  {
   "cell_type": "code",
   "execution_count": 16,
   "id": "de43ff44-9424-4a2e-ac09-2f9f98dd8b05",
   "metadata": {},
   "outputs": [],
   "source": [
    "# Applying Variance\n",
    "from sklearn.feature_selection import VarianceThreshold"
   ]
  },
  {
   "cell_type": "code",
   "execution_count": 17,
   "id": "8ccc35e7-b274-4506-8464-28b94e8ec42a",
   "metadata": {},
   "outputs": [],
   "source": [
    "varT = VarianceThreshold()"
   ]
  },
  {
   "cell_type": "code",
   "execution_count": 18,
   "id": "87349f33-164a-4c48-8f4a-1f007bebf1fb",
   "metadata": {},
   "outputs": [
    {
     "data": {
      "text/plain": [
       "array([[ 486,  180,   21, ..., 1151,  344,   79],\n",
       "       [ 133,  260,  185, ..., 1090,   28,   59],\n",
       "       [ 559,    2,  111, ..., 1024,  237,   77],\n",
       "       ...,\n",
       "       [ 358,   22,   17, ..., 1081,  302,   56],\n",
       "       [ 445,  275,  178, ...,  865,  374,   58],\n",
       "       [ 560,  266,  167, ..., 1165,  360,   58]])"
      ]
     },
     "execution_count": 18,
     "metadata": {},
     "output_type": "execute_result"
    }
   ],
   "source": [
    "x = varT.fit_transform(cdf)\n",
    "x"
   ]
  },
  {
   "cell_type": "code",
   "execution_count": 19,
   "id": "14d5612c-25a9-44d8-be26-7300bb450067",
   "metadata": {},
   "outputs": [
    {
     "data": {
      "text/plain": [
       "array([ True,  True,  True,  True,  True,  True,  True,  True])"
      ]
     },
     "execution_count": 19,
     "metadata": {},
     "output_type": "execute_result"
    }
   ],
   "source": [
    "op = varT.fit(cdf)\n",
    "op.get_support()"
   ]
  },
  {
   "cell_type": "code",
   "execution_count": null,
   "id": "c4f1289e-1d92-491f-9a75-0e450a703beb",
   "metadata": {},
   "outputs": [],
   "source": []
  },
  {
   "cell_type": "code",
   "execution_count": 20,
   "id": "cf7de4bc-8988-4c3b-a70f-ffc0a473ce19",
   "metadata": {},
   "outputs": [],
   "source": [
    "x = cdf[['Material_Quantity_gm', 'Additive_Catalyst_gm', 'Ash_Component_gm',\n",
    "       'Water_Mix_ml', 'Plasticizer_gm', 'Moderate_Aggregator',\n",
    "        'Formulation_Duration_hrs',]].values"
   ]
  },
  {
   "cell_type": "code",
   "execution_count": 21,
   "id": "e651d612-f74f-496f-af91-425f7b2ededa",
   "metadata": {},
   "outputs": [
    {
     "data": {
      "text/plain": [
       "array([[ 486,  180,   21, ...,   16, 1151,  344],\n",
       "       [ 133,  260,  185, ...,    6, 1090,   28],\n",
       "       [ 559,    2,  111, ...,   11, 1024,  237],\n",
       "       ...,\n",
       "       [ 358,   22,   17, ...,   34, 1081,  302],\n",
       "       [ 445,  275,  178, ...,   18,  865,  374],\n",
       "       [ 560,  266,  167, ...,   10, 1165,  360]])"
      ]
     },
     "execution_count": 21,
     "metadata": {},
     "output_type": "execute_result"
    }
   ],
   "source": [
    "x"
   ]
  },
  {
   "cell_type": "code",
   "execution_count": 22,
   "id": "96db3a43-585b-4b5c-8dc5-c9817f296585",
   "metadata": {},
   "outputs": [],
   "source": [
    "y = cdf[\"Compression_Strength_MPa\"].values"
   ]
  },
  {
   "cell_type": "code",
   "execution_count": 23,
   "id": "99fcaf9c-0a10-43dc-a348-14e5fa63a515",
   "metadata": {},
   "outputs": [
    {
     "data": {
      "text/plain": [
       "array([79, 59, 77, ..., 56, 58, 58])"
      ]
     },
     "execution_count": 23,
     "metadata": {},
     "output_type": "execute_result"
    }
   ],
   "source": [
    "y"
   ]
  },
  {
   "cell_type": "code",
   "execution_count": 24,
   "id": "e0b10d02-d603-4c56-8820-c888aebe12ac",
   "metadata": {},
   "outputs": [],
   "source": [
    "from sklearn.model_selection import train_test_split\n",
    "x_train,x_test,y_train,y_test = train_test_split(x, y, test_size = 0.20, random_state = 100)"
   ]
  },
  {
   "cell_type": "code",
   "execution_count": 25,
   "id": "dc1a3a54-56bc-4979-a0db-03e9bb5ce4b5",
   "metadata": {},
   "outputs": [
    {
     "name": "stdout",
     "output_type": "stream",
     "text": [
      "Training dataset size [IV] (4911, 7)\n",
      "Training dataset size [DV] (4911,)\n",
      "Testing dataset size [IV] (1228, 7)\n",
      "Testing dataset size [DV] (1228,)\n"
     ]
    }
   ],
   "source": [
    "print(\"Training dataset size [IV]\", x_train.shape)\n",
    "print(\"Training dataset size [DV]\", y_train.shape)\n",
    "print(\"Testing dataset size [IV]\", x_test.shape)\n",
    "print(\"Testing dataset size [DV]\", y_test.shape)"
   ]
  },
  {
   "cell_type": "code",
   "execution_count": 26,
   "id": "7ba49ec5-27e3-419d-8d7a-e37ed73277d3",
   "metadata": {},
   "outputs": [],
   "source": [
    "from sklearn import linear_model\n",
    "regressor = linear_model.LinearRegression()"
   ]
  },
  {
   "cell_type": "code",
   "execution_count": 27,
   "id": "ab4d7104-3faa-400c-aa3e-5e3047442c02",
   "metadata": {},
   "outputs": [],
   "source": [
    "from sklearn.preprocessing import PolynomialFeatures\n",
    "poly = PolynomialFeatures(degree=3)"
   ]
  },
  {
   "cell_type": "code",
   "execution_count": 28,
   "id": "a6766715-7fa5-41eb-bb7d-7873b013f9ba",
   "metadata": {},
   "outputs": [],
   "source": [
    "x_train_poly = poly.fit_transform(x_train)"
   ]
  },
  {
   "cell_type": "code",
   "execution_count": 29,
   "id": "bc1728c4-d199-4bd1-8407-919df478eeca",
   "metadata": {},
   "outputs": [
    {
     "data": {
      "text/html": [
       "<style>#sk-container-id-1 {color: black;}#sk-container-id-1 pre{padding: 0;}#sk-container-id-1 div.sk-toggleable {background-color: white;}#sk-container-id-1 label.sk-toggleable__label {cursor: pointer;display: block;width: 100%;margin-bottom: 0;padding: 0.3em;box-sizing: border-box;text-align: center;}#sk-container-id-1 label.sk-toggleable__label-arrow:before {content: \"▸\";float: left;margin-right: 0.25em;color: #696969;}#sk-container-id-1 label.sk-toggleable__label-arrow:hover:before {color: black;}#sk-container-id-1 div.sk-estimator:hover label.sk-toggleable__label-arrow:before {color: black;}#sk-container-id-1 div.sk-toggleable__content {max-height: 0;max-width: 0;overflow: hidden;text-align: left;background-color: #f0f8ff;}#sk-container-id-1 div.sk-toggleable__content pre {margin: 0.2em;color: black;border-radius: 0.25em;background-color: #f0f8ff;}#sk-container-id-1 input.sk-toggleable__control:checked~div.sk-toggleable__content {max-height: 200px;max-width: 100%;overflow: auto;}#sk-container-id-1 input.sk-toggleable__control:checked~label.sk-toggleable__label-arrow:before {content: \"▾\";}#sk-container-id-1 div.sk-estimator input.sk-toggleable__control:checked~label.sk-toggleable__label {background-color: #d4ebff;}#sk-container-id-1 div.sk-label input.sk-toggleable__control:checked~label.sk-toggleable__label {background-color: #d4ebff;}#sk-container-id-1 input.sk-hidden--visually {border: 0;clip: rect(1px 1px 1px 1px);clip: rect(1px, 1px, 1px, 1px);height: 1px;margin: -1px;overflow: hidden;padding: 0;position: absolute;width: 1px;}#sk-container-id-1 div.sk-estimator {font-family: monospace;background-color: #f0f8ff;border: 1px dotted black;border-radius: 0.25em;box-sizing: border-box;margin-bottom: 0.5em;}#sk-container-id-1 div.sk-estimator:hover {background-color: #d4ebff;}#sk-container-id-1 div.sk-parallel-item::after {content: \"\";width: 100%;border-bottom: 1px solid gray;flex-grow: 1;}#sk-container-id-1 div.sk-label:hover label.sk-toggleable__label {background-color: #d4ebff;}#sk-container-id-1 div.sk-serial::before {content: \"\";position: absolute;border-left: 1px solid gray;box-sizing: border-box;top: 0;bottom: 0;left: 50%;z-index: 0;}#sk-container-id-1 div.sk-serial {display: flex;flex-direction: column;align-items: center;background-color: white;padding-right: 0.2em;padding-left: 0.2em;position: relative;}#sk-container-id-1 div.sk-item {position: relative;z-index: 1;}#sk-container-id-1 div.sk-parallel {display: flex;align-items: stretch;justify-content: center;background-color: white;position: relative;}#sk-container-id-1 div.sk-item::before, #sk-container-id-1 div.sk-parallel-item::before {content: \"\";position: absolute;border-left: 1px solid gray;box-sizing: border-box;top: 0;bottom: 0;left: 50%;z-index: -1;}#sk-container-id-1 div.sk-parallel-item {display: flex;flex-direction: column;z-index: 1;position: relative;background-color: white;}#sk-container-id-1 div.sk-parallel-item:first-child::after {align-self: flex-end;width: 50%;}#sk-container-id-1 div.sk-parallel-item:last-child::after {align-self: flex-start;width: 50%;}#sk-container-id-1 div.sk-parallel-item:only-child::after {width: 0;}#sk-container-id-1 div.sk-dashed-wrapped {border: 1px dashed gray;margin: 0 0.4em 0.5em 0.4em;box-sizing: border-box;padding-bottom: 0.4em;background-color: white;}#sk-container-id-1 div.sk-label label {font-family: monospace;font-weight: bold;display: inline-block;line-height: 1.2em;}#sk-container-id-1 div.sk-label-container {text-align: center;}#sk-container-id-1 div.sk-container {/* jupyter's `normalize.less` sets `[hidden] { display: none; }` but bootstrap.min.css set `[hidden] { display: none !important; }` so we also need the `!important` here to be able to override the default hidden behavior on the sphinx rendered scikit-learn.org. See: https://github.com/scikit-learn/scikit-learn/issues/21755 */display: inline-block !important;position: relative;}#sk-container-id-1 div.sk-text-repr-fallback {display: none;}</style><div id=\"sk-container-id-1\" class=\"sk-top-container\"><div class=\"sk-text-repr-fallback\"><pre>LinearRegression()</pre><b>In a Jupyter environment, please rerun this cell to show the HTML representation or trust the notebook. <br />On GitHub, the HTML representation is unable to render, please try loading this page with nbviewer.org.</b></div><div class=\"sk-container\" hidden><div class=\"sk-item\"><div class=\"sk-estimator sk-toggleable\"><input class=\"sk-toggleable__control sk-hidden--visually\" id=\"sk-estimator-id-1\" type=\"checkbox\" checked><label for=\"sk-estimator-id-1\" class=\"sk-toggleable__label sk-toggleable__label-arrow\">LinearRegression</label><div class=\"sk-toggleable__content\"><pre>LinearRegression()</pre></div></div></div></div></div>"
      ],
      "text/plain": [
       "LinearRegression()"
      ]
     },
     "execution_count": 29,
     "metadata": {},
     "output_type": "execute_result"
    }
   ],
   "source": [
    "regressor.fit(x_train_poly, y_train)"
   ]
  },
  {
   "cell_type": "code",
   "execution_count": 30,
   "id": "cb06f0d3-0d24-46bc-9307-2e1e221d76d1",
   "metadata": {},
   "outputs": [],
   "source": [
    "x_test_poly = poly.fit_transform(x_test)\n",
    "y_hat = regressor.predict(x_test_poly)"
   ]
  },
  {
   "cell_type": "code",
   "execution_count": 31,
   "id": "b68c0912-ae69-483c-9014-b7fc3fe2522f",
   "metadata": {},
   "outputs": [
    {
     "name": "stdout",
     "output_type": "stream",
     "text": [
      "R2 Score is : 36.05251549781112\n"
     ]
    }
   ],
   "source": [
    "from sklearn.metrics import r2_score\n",
    "print(\"R2 Score is :\", r2_score(y_test, y_hat)*100)"
   ]
  },
  {
   "cell_type": "code",
   "execution_count": 32,
   "id": "ce1a2131-ac0e-4a08-aa14-cfcd320ed414",
   "metadata": {},
   "outputs": [],
   "source": [
    "import pickle\n",
    "pickle.dump(regressor, open('model.pkl','wb'))\n"
   ]
  },
  {
   "cell_type": "code",
   "execution_count": null,
   "id": "49285b89-324b-4d0a-b661-8ff51b595db6",
   "metadata": {},
   "outputs": [],
   "source": []
  }
 ],
 "metadata": {
  "kernelspec": {
   "display_name": "Python 3.9.13 ('venv1': venv)",
   "language": "python",
   "name": "python3"
  },
  "language_info": {
   "codemirror_mode": {
    "name": "ipython",
    "version": 3
   },
   "file_extension": ".py",
   "mimetype": "text/x-python",
   "name": "python",
   "nbconvert_exporter": "python",
   "pygments_lexer": "ipython3",
   "version": "3.9.13"
  },
  "vscode": {
   "interpreter": {
    "hash": "31433cb56186b61aa021873cba8426bc4aa5ace7dc7a65dd8439801f6528342f"
   }
  }
 },
 "nbformat": 4,
 "nbformat_minor": 5
}
